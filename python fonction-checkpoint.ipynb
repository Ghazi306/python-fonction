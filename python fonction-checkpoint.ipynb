{
 "cells": [
  {
   "cell_type": "code",
   "execution_count": 1,
   "id": "ab219a7e",
   "metadata": {},
   "outputs": [
    {
     "name": "stdout",
     "output_type": "stream",
     "text": [
      "15\n"
     ]
    }
   ],
   "source": [
    "#question 1:\n",
    "def maxtwonumbers(a,b):\n",
    "    if a>b:\n",
    "        return a\n",
    "    return b\n",
    "def maxthreenumbers(a,b,c):\n",
    "    return maxtwonumbers(a,maxtwonumbers (b,c))\n",
    "print(maxthreenumbers(15,5,2))\n",
    "    "
   ]
  },
  {
   "cell_type": "code",
   "execution_count": 2,
   "id": "99f1cbc3",
   "metadata": {},
   "outputs": [
    {
     "data": {
      "text/plain": [
       "(25, 5)"
      ]
     },
     "execution_count": 2,
     "metadata": {},
     "output_type": "execute_result"
    }
   ],
   "source": [
    "#question 2:\n",
    "def calculation_function(number1,number2):\n",
    "    sum_=(number1+number2)\n",
    "    sub_=(number1-number2)\n",
    "    return sum_ , sub_\n",
    "calculation_function(15,10)"
   ]
  },
  {
   "cell_type": "code",
   "execution_count": 14,
   "id": "11c39af6",
   "metadata": {},
   "outputs": [
    {
     "name": "stdout",
     "output_type": "stream",
     "text": [
      "Sum of all elements in given list:  74\n",
      "11\n",
      "Even index positions sum  74\n",
      "nOdd index positions sum  11\n"
     ]
    }
   ],
   "source": [
    "#question 3:\n",
    "total = 0\n",
    "list1 = [11, 5, 17, 18, 23]\n",
    "for ele in range(0, len(list1)):\n",
    "    total = total + list1[ele]\n",
    "print(\"Sum of all elements in given list: \", total)\n",
    "def multiplyList(myList) :\n",
    "    result = 1\n",
    "    for x in myList:\n",
    "        result = result * x\n",
    "        return result\n",
    "list1 = [11, 5, 17, 18, 23]\n",
    "print(multiplyList(list1))\n",
    "def EvenOddSum(a, n):\n",
    "    even = 0\n",
    "    odd = 0\n",
    "    for i in range(n):\n",
    "        if i % 2 == 0:\n",
    "            even += a[i]\n",
    "        else:\n",
    "            odd += a[i]\n",
    "    print (\"Even index positions sum \", even)\n",
    "    print (\"nOdd index positions sum \", odd)\n",
    "arr=[74,11]\n",
    "n = len(arr)\n",
    " \n",
    "EvenOddSum(arr, n)"
   ]
  },
  {
   "cell_type": "code",
   "execution_count": 15,
   "id": "223d28bb",
   "metadata": {},
   "outputs": [
    {
     "name": "stdout",
     "output_type": "stream",
     "text": [
      "green-red-yellow-black-white\n",
      "black-green-red-white-yellow\n"
     ]
    }
   ],
   "source": [
    "#question 4:\n",
    "sentence=[n for n in input().split('-')]\n",
    "sentence.sort()\n",
    "print('-'.join(sentence))"
   ]
  },
  {
   "cell_type": "code",
   "execution_count": 17,
   "id": "79cbc72d",
   "metadata": {},
   "outputs": [
    {
     "name": "stdout",
     "output_type": "stream",
     "text": [
      "Provide D: 100,150,180\n",
      "[18, 22, 24]\n"
     ]
    }
   ],
   "source": [
    "#question 5:\n",
    "import math\n",
    "numbers = input(\"Provide D: \")\n",
    "numbers = numbers.split(',')\n",
    "\n",
    "result_list = []\n",
    "for D in numbers:\n",
    "    Q = round(math.sqrt(2 * 50 * int(D) / 30))\n",
    "    result_list.append(Q)\n",
    "\n",
    "print(result_list)\n"
   ]
  },
  {
   "cell_type": "code",
   "execution_count": null,
   "id": "2bf41151",
   "metadata": {},
   "outputs": [],
   "source": []
  }
 ],
 "metadata": {
  "kernelspec": {
   "display_name": "Python 3",
   "language": "python",
   "name": "python3"
  },
  "language_info": {
   "codemirror_mode": {
    "name": "ipython",
    "version": 3
   },
   "file_extension": ".py",
   "mimetype": "text/x-python",
   "name": "python",
   "nbconvert_exporter": "python",
   "pygments_lexer": "ipython3",
   "version": "3.8.8"
  }
 },
 "nbformat": 4,
 "nbformat_minor": 5
}
